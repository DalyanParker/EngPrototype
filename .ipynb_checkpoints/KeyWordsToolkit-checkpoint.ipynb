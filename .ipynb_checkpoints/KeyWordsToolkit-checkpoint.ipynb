{
 "cells": [
  {
   "cell_type": "code",
   "execution_count": 5,
   "metadata": {},
   "outputs": [],
   "source": [
    "import json\n",
    "import nltk"
   ]
  },
  {
   "cell_type": "code",
   "execution_count": 6,
   "metadata": {},
   "outputs": [],
   "source": [
    "from nltk.corpus import stopwords\n",
    "from nltk.tokenize import word_tokenize"
   ]
  },
  {
   "cell_type": "code",
   "execution_count": 7,
   "metadata": {},
   "outputs": [],
   "source": [
    "# Default list of stopwords from NLTK Library\n",
    "stop_words = set(stopwords.words('english'))"
   ]
  },
  {
   "cell_type": "code",
   "execution_count": 8,
   "metadata": {},
   "outputs": [],
   "source": [
    "def removeStopwords(text, stop_words):\n",
    "    \n",
    "    if (text is None) : return 'Null'\n",
    "    \n",
    "    tokenizer = nltk.RegexpTokenizer(r\"\\w+\")\n",
    "    words = tokenizer.tokenize(text)\n",
    "\n",
    "    filtered_words = []\n",
    "    \n",
    "    for word in words:\n",
    "                \n",
    "        if (word == None): continue \n",
    "        \n",
    "        elif (word.lower() not in stop_words):\n",
    "            filtered_words.append(word)\n",
    "            \n",
    "    return filtered_words"
   ]
  },
  {
   "cell_type": "code",
   "execution_count": 9,
   "metadata": {},
   "outputs": [],
   "source": [
    "txt = \" (b) the wires and cables in the raceways do not meet or exceed the requirements of Clause 3.1.5.18.(1)(a), the nonmetallic raceways exhibit a vertical char not more than 1.5 m when tested in conformance with the Vertical Flame Test (FT4) – Conduit or Tubing on Cable Tray in Clause 6.16 of CSA C22.2 No. 211.0, “General Requirements and Methods of Testing for Nonmetallic Conduit”.\""
   ]
  },
  {
   "cell_type": "code",
   "execution_count": 10,
   "metadata": {},
   "outputs": [
    {
     "data": {
      "text/plain": [
       "['b',\n",
       " 'wires',\n",
       " 'cables',\n",
       " 'raceways',\n",
       " 'meet',\n",
       " 'exceed',\n",
       " 'requirements',\n",
       " 'Clause',\n",
       " '3',\n",
       " '1',\n",
       " '5',\n",
       " '18',\n",
       " '1',\n",
       " 'nonmetallic',\n",
       " 'raceways',\n",
       " 'exhibit',\n",
       " 'vertical',\n",
       " 'char',\n",
       " '1',\n",
       " '5',\n",
       " 'tested',\n",
       " 'conformance',\n",
       " 'Vertical',\n",
       " 'Flame',\n",
       " 'Test',\n",
       " 'FT4',\n",
       " 'Conduit',\n",
       " 'Tubing',\n",
       " 'Cable',\n",
       " 'Tray',\n",
       " 'Clause',\n",
       " '6',\n",
       " '16',\n",
       " 'CSA',\n",
       " 'C22',\n",
       " '2',\n",
       " '211',\n",
       " '0',\n",
       " 'General',\n",
       " 'Requirements',\n",
       " 'Methods',\n",
       " 'Testing',\n",
       " 'Nonmetallic',\n",
       " 'Conduit']"
      ]
     },
     "execution_count": 10,
     "metadata": {},
     "output_type": "execute_result"
    }
   ],
   "source": [
    "removeStopwords(txt, stop_words)"
   ]
  },
  {
   "cell_type": "code",
   "execution_count": 6,
   "metadata": {},
   "outputs": [],
   "source": [
    "def removeDuplicates(text) :\n",
    "    \n",
    "    dictionary = {}\n",
    "    duplicates_removed = []\n",
    "    \n",
    "    for word in text:\n",
    "        \n",
    "        if (word in dictionary):\n",
    "            continue\n",
    "        else:\n",
    "            dictionary[word] = text.index(word)\n",
    "            duplicates_removed.append(word)\n",
    "            \n",
    "    return (dictionary, duplicates_removed)"
   ]
  },
  {
   "cell_type": "code",
   "execution_count": 7,
   "metadata": {},
   "outputs": [],
   "source": [
    "def cleanText(stories, stop_words):\n",
    "    \n",
    "    cleaned = []\n",
    "    \n",
    "    for story in stories:\n",
    "        \n",
    "#         print(story['title'] + ' : ' + str(stories.index(story)))\n",
    "        \n",
    "        cleaned_text = removeStopwords(story['full_text'], stop_words)\n",
    "        cleaned_text = removeDuplicates(cleaned_text)[1]\n",
    "        \n",
    "        cleaned_story = {\n",
    "            \n",
    "            'title' : story['title'],\n",
    "            'date' : story['date'],\n",
    "            'cleaned_text' : cleaned_text\n",
    "            \n",
    "        }\n",
    "        \n",
    "        cleaned.append(cleaned_story)\n",
    "        \n",
    "    \n",
    "    return cleaned"
   ]
  },
  {
   "cell_type": "code",
   "execution_count": 8,
   "metadata": {},
   "outputs": [],
   "source": [
    "def extract(filepath, keyword, stop_words):\n",
    "    \n",
    "    with open(filepath, 'r') as f:\n",
    "        stories = json.load(f)\n",
    "    \n",
    "    cleaned = cleanText(stories, stop_words)\n",
    "    \n",
    "    with open('Cleaned/cleaned_' + keyword + '.json', 'w') as json_file:\n",
    "        json.dump(cleaned, json_file)\n",
    "    \n",
    "    return"
   ]
  },
  {
   "cell_type": "code",
   "execution_count": 10,
   "metadata": {},
   "outputs": [],
   "source": [
    "# Extract conversion lists and export to JSON file\n",
    "\n",
    "extract('Extractions/not_contains_scalability.json', 'not_scalability', stop_words)"
   ]
  },
  {
   "cell_type": "code",
   "execution_count": null,
   "metadata": {},
   "outputs": [],
   "source": []
  }
 ],
 "metadata": {
  "kernelspec": {
   "display_name": "Python 3",
   "language": "python",
   "name": "python3"
  },
  "language_info": {
   "codemirror_mode": {
    "name": "ipython",
    "version": 3
   },
   "file_extension": ".py",
   "mimetype": "text/x-python",
   "name": "python",
   "nbconvert_exporter": "python",
   "pygments_lexer": "ipython3",
   "version": "3.7.6"
  }
 },
 "nbformat": 4,
 "nbformat_minor": 4
}
