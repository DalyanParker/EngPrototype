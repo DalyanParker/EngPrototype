{
 "cells": [
  {
   "cell_type": "code",
   "execution_count": 2,
   "metadata": {},
   "outputs": [],
   "source": [
    "import requests\n",
    "import urllib\n",
    "import time\n",
    "import copy\n",
    "import re\n",
    "import json\n",
    "from bs4 import BeautifulSoup"
   ]
  },
  {
   "cell_type": "code",
   "execution_count": 3,
   "metadata": {},
   "outputs": [
    {
     "name": "stdout",
     "output_type": "stream",
     "text": [
      "<Response [200]>\n"
     ]
    }
   ],
   "source": [
    "url = 'https://www.ontario.ca/laws/regulation/120332'\n",
    "response = requests.get(url)\n",
    "print(response)\n",
    "soup = BeautifulSoup(response.text, \"html.parser\")"
   ]
  },
  {
   "cell_type": "code",
   "execution_count": 4,
   "metadata": {},
   "outputs": [],
   "source": [
    "items = soup.find_all('p', class_ = ['section-e', 'subsection-e', 'clause-e', 'subclause-e'])"
   ]
  },
  {
   "cell_type": "code",
   "execution_count": 5,
   "metadata": {},
   "outputs": [],
   "source": [
    "def toJSON(title, obj):\n",
    "    with open('Data/' + title + '.json', 'w', encoding='utf-8') as f:\n",
    "        json.dump(obj, f, ensure_ascii=False, indent=4)\n",
    "    return"
   ]
  },
  {
   "cell_type": "code",
   "execution_count": 6,
   "metadata": {},
   "outputs": [],
   "source": [
    "def formatText(text): \n",
    "    \n",
    "        text = str(text)\n",
    "    \n",
    "        cleaned = re.sub(r\"<b>|</b>\", \"\", text)\n",
    "        cleaned = re.sub(r\"<i>|</i>\", \"\", cleaned)\n",
    "        \n",
    "        if (\">\" in cleaned):\n",
    "              \n",
    "            start = cleaned.index(\">\") + 1\n",
    "            cleaned = cleaned[start:]\n",
    "            \n",
    "        if (\"<\" in cleaned):\n",
    "        \n",
    "            end = cleaned.index(\"<\")\n",
    "            cleaned = cleaned[:end]\n",
    "        \n",
    "\n",
    "        return cleaned"
   ]
  },
  {
   "cell_type": "code",
   "execution_count": 7,
   "metadata": {},
   "outputs": [],
   "source": [
    "def label(list):\n",
    "    \n",
    "    labeled = []\n",
    "    \n",
    "    \n",
    "    for item in list:\n",
    "        \n",
    "        if item.attrs['class'] == ['section-e']:\n",
    "            \n",
    "            cleaned = formatText(item)\n",
    "            labeled.append({\"type\": \"Section\", \"text\": cleaned})\n",
    "            \n",
    "            \n",
    "        elif item.attrs['class'] == ['subsection-e']:\n",
    "            cleaned = formatText(item)\n",
    "            labeled.append({\"type\": \"Sub Section\", \"text\": cleaned})\n",
    "            \n",
    "        elif item.attrs['class'] == ['clause-e']:\n",
    "            cleaned = formatText(item)\n",
    "            labeled.append({\"type\": \"Clause\", \"text\": cleaned})\n",
    "            \n",
    "        elif item.attrs['class'] == ['subclause-e']:\n",
    "            cleaned = formatText(item)\n",
    "            labeled.append({\"type\": \"Sub Clause\", \"text\": cleaned})\n",
    "            \n",
    "            \n",
    "    return labeled"
   ]
  },
  {
   "cell_type": "code",
   "execution_count": 8,
   "metadata": {},
   "outputs": [],
   "source": [
    "labeled = label(items)"
   ]
  },
  {
   "cell_type": "code",
   "execution_count": 9,
   "metadata": {},
   "outputs": [],
   "source": [
    "def partitionPoints(list, type):\n",
    "    \n",
    "    points = []\n",
    "    titles = []\n",
    "    \n",
    "    for item in list:\n",
    "        \n",
    "        if (item[\"type\"] == type):\n",
    "            points.append(list.index(item))\n",
    "            titles.append(item)\n",
    "        \n",
    "    return [ points, titles ]"
   ]
  },
  {
   "cell_type": "code",
   "execution_count": 10,
   "metadata": {},
   "outputs": [],
   "source": [
    "def partition(list, type):\n",
    "    \n",
    "    \n",
    "    points = partitionPoints(list, type)[0]\n",
    "    partitions = []\n",
    "    \n",
    "    for point in points:\n",
    "        \n",
    "        last_index = len(points) - 1\n",
    "        current_index = points.index(point)\n",
    "        \n",
    "        if (last_index != current_index):\n",
    "        \n",
    "            start = point + 1\n",
    "            end = points[current_index + 1]\n",
    "            partition = list[start:end]\n",
    "            \n",
    "    \n",
    "            \n",
    "        else:\n",
    "            \n",
    "            start = point + 1\n",
    "            partition = list[start:]\n",
    "            \n",
    "            \n",
    "        partitions.append(partition)\n",
    "    \n",
    "    \n",
    "    return partitions"
   ]
  },
  {
   "cell_type": "code",
   "execution_count": 11,
   "metadata": {},
   "outputs": [],
   "source": [
    "def correlate(partitions, titles, partition_type):\n",
    "    \n",
    "    list = []\n",
    "\n",
    "    \n",
    "    length = len(partitions)\n",
    "    \n",
    "    for i in range(length):\n",
    "              \n",
    "            \n",
    "        title = titles[i]\n",
    "        partition = partitions[i]\n",
    "    \n",
    "        \n",
    "        list.append({partition_type : title, \"Items\" : partition})\n",
    "              \n",
    "    return list"
   ]
  },
  {
   "cell_type": "code",
   "execution_count": 12,
   "metadata": {},
   "outputs": [],
   "source": [
    "def filterByType(l, types):\n",
    "\n",
    "    arr = list(filter(lambda i: i[\"type\"] not in types, l))\n",
    "    return arr"
   ]
  },
  {
   "cell_type": "code",
   "execution_count": 13,
   "metadata": {},
   "outputs": [],
   "source": [
    "def cleanByType(l, t):\n",
    "    \n",
    "    clean = []\n",
    "    \n",
    "    for i in l:\n",
    "        \n",
    "        cleaned = filterByType(i, t)\n",
    "        clean.append(cleaned)\n",
    "        \n",
    "    return clean"
   ]
  },
  {
   "cell_type": "code",
   "execution_count": 14,
   "metadata": {},
   "outputs": [],
   "source": [
    "# Partition & Extract Sections\n",
    "\n",
    "sections = partitionPoints(labeled, \"Section\")[1]\n",
    "section_partitions = partition(labeled, \"Section\")\n",
    "section_partitions = cleanByType(section_partitions, [])"
   ]
  },
  {
   "cell_type": "code",
   "execution_count": 15,
   "metadata": {},
   "outputs": [],
   "source": [
    "# Partition & Extract Sub Sections\n",
    "\n",
    "sub_sections = partitionPoints(labeled, \"Sub Section\")[1]\n",
    "sub_section_partitions = partition(labeled, \"Sub Section\")\n",
    "sub_section_partitions = cleanByType(sub_section_partitions, [\"Section\"])"
   ]
  },
  {
   "cell_type": "code",
   "execution_count": 16,
   "metadata": {},
   "outputs": [],
   "source": [
    "# Paritition & Extract Clauses\n",
    "\n",
    "clauses = partitionPoints(labeled, \"Clause\")[1]\n",
    "clause_partitions = partition(labeled, \"Clause\")\n",
    "clause_partitions = cleanByType(clause_partitions, [\"Section\", \"Sub Section\"])"
   ]
  },
  {
   "cell_type": "code",
   "execution_count": 17,
   "metadata": {},
   "outputs": [],
   "source": [
    "# Organize Partitions -- Define Functions"
   ]
  },
  {
   "cell_type": "code",
   "execution_count": 18,
   "metadata": {},
   "outputs": [],
   "source": [
    "def countItems(data):\n",
    "    \n",
    "    count = []\n",
    "    \n",
    "    for array in data:\n",
    "        \n",
    "        count.append(len(array))\n",
    "            \n",
    "    return count"
   ]
  },
  {
   "cell_type": "code",
   "execution_count": 19,
   "metadata": {},
   "outputs": [],
   "source": [
    "def place(count, items):\n",
    "    \n",
    "    placements = []\n",
    "    \n",
    "    for amount in count:\n",
    "                \n",
    "            placement = items[0:amount]\n",
    "            items = items[amount:]\n",
    "            \n",
    "            placements.append(placement)\n",
    "            \n",
    "            \n",
    "    return placements "
   ]
  },
  {
   "cell_type": "code",
   "execution_count": 20,
   "metadata": {},
   "outputs": [],
   "source": [
    "# Organize Partitions -- Build Up From Deepest Elements : Clauses"
   ]
  },
  {
   "cell_type": "code",
   "execution_count": 21,
   "metadata": {},
   "outputs": [],
   "source": [
    "# Define Sub Sections Placements\n",
    "\n",
    "cleaned_sub_section_partitions = cleanByType(sub_section_partitions, [\"Sub Clause\"])\n",
    "\n",
    "sub_section_placements = place(countItems(cleaned_sub_section_partitions), correlate(clause_partitions, clauses, \"Clause\"))\n",
    "\n",
    "sub_sections_placed = correlate(sub_section_placements, sub_sections, \"Sub Section\")"
   ]
  },
  {
   "cell_type": "code",
   "execution_count": 22,
   "metadata": {},
   "outputs": [],
   "source": [
    "# Define Section Placements\n",
    "\n",
    "cleaned_section_partitions = cleanByType(section_partitions, [\"Clause\", \"Sub Clause\"])\n",
    "\n",
    "section_placements = place(countItems(cleaned_section_partitions), correlate(sub_sections_placed, sub_sections, \"Sub Section\"))\n",
    "\n",
    "sections_placed = correlate(section_placements, sections, \"Section\")"
   ]
  },
  {
   "cell_type": "code",
   "execution_count": 23,
   "metadata": {},
   "outputs": [],
   "source": [
    "toJSON(\"sections\", sections_placed)"
   ]
  },
  {
   "cell_type": "code",
   "execution_count": null,
   "metadata": {},
   "outputs": [],
   "source": []
  }
 ],
 "metadata": {
  "kernelspec": {
   "display_name": "Python 3",
   "language": "python",
   "name": "python3"
  },
  "language_info": {
   "codemirror_mode": {
    "name": "ipython",
    "version": 3
   },
   "file_extension": ".py",
   "mimetype": "text/x-python",
   "name": "python",
   "nbconvert_exporter": "python",
   "pygments_lexer": "ipython3",
   "version": "3.7.6"
  }
 },
 "nbformat": 4,
 "nbformat_minor": 4
}
