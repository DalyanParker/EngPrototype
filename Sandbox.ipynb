{
 "cells": [
  {
   "cell_type": "code",
   "execution_count": 1,
   "metadata": {},
   "outputs": [],
   "source": [
    "import requests\n",
    "import re\n",
    "import urllib.request\n",
    "import time\n",
    "from bs4 import BeautifulSoup"
   ]
  },
  {
   "cell_type": "code",
   "execution_count": 2,
   "metadata": {},
   "outputs": [],
   "source": [
    "# Step 1 : Get Request to url of data source \n",
    "\n",
    "url = 'https://www.ontario.ca/laws/regulation/120332'\n",
    "response = requests.get(url)"
   ]
  },
  {
   "cell_type": "code",
   "execution_count": 3,
   "metadata": {},
   "outputs": [
    {
     "data": {
      "text/plain": [
       "<Response [200]>"
      ]
     },
     "execution_count": 3,
     "metadata": {},
     "output_type": "execute_result"
    }
   ],
   "source": [
    "# Step 2 : If Response 200, then Get Request was succesful\n",
    "\n",
    "response"
   ]
  },
  {
   "cell_type": "code",
   "execution_count": 4,
   "metadata": {},
   "outputs": [],
   "source": [
    "# Step 3 : Parse the html\n",
    "\n",
    "soup = BeautifulSoup(response.text,'html.parser')"
   ]
  },
  {
   "cell_type": "code",
   "execution_count": 5,
   "metadata": {},
   "outputs": [],
   "source": [
    "# Step 4 : Create List of all `Rule` <p> tags\n",
    "\n",
    "rules = soup.findAll(\"p\", {\"class\":\"ruleb-e\"})"
   ]
  },
  {
   "cell_type": "code",
   "execution_count": 6,
   "metadata": {},
   "outputs": [],
   "source": [
    "# Step 5 : Create List of all `Section` <p> tags\n",
    "\n",
    "sections = soup.findAll(\"p\", {\"class\":\"section-e\"})"
   ]
  },
  {
   "cell_type": "code",
   "execution_count": 7,
   "metadata": {},
   "outputs": [],
   "source": [
    "# Step 6 : Create List of all `Sub-Section` <p> tags\n",
    "\n",
    "sub_sections = soup.findAll(\"p\", {\"class\":\"subsection-e\"})"
   ]
  },
  {
   "cell_type": "code",
   "execution_count": 8,
   "metadata": {},
   "outputs": [],
   "source": [
    "# Step 7 : Create List of all `Sub-Section` <p> tags\n",
    "\n",
    "sub_sections = soup.findAll(\"p\", {\"class\":\"subsection-e\"})"
   ]
  },
  {
   "cell_type": "code",
   "execution_count": 9,
   "metadata": {},
   "outputs": [],
   "source": [
    "# Step 8 : Create List of all `Clause` <p> tags\n",
    "\n",
    "clauses = soup.findAll(\"p\", {\"class\":\"clause-e\"})"
   ]
  },
  {
   "cell_type": "code",
   "execution_count": 10,
   "metadata": {},
   "outputs": [],
   "source": [
    "# Step 9 : Create List of all `Sub-Clause` <p> tags\n",
    "\n",
    "clauses = soup.findAll(\"p\", {\"class\":\"subclause-e\"})"
   ]
  },
  {
   "cell_type": "code",
   "execution_count": 11,
   "metadata": {},
   "outputs": [],
   "source": [
    "def defineSampleSpace(soup, first_rule):\n",
    "    \n",
    "    # Note : Need to Accomodate end point\n",
    "    \n",
    "    # ---\n",
    "    \n",
    "    # Extract all <p> tags\n",
    "    \n",
    "    original_sample_space = soup.findAll(\"p\")\n",
    "    \n",
    "    # Find index of first `Rule` - 1.1.1\n",
    "    \n",
    "    start = original_sample_space.index(first_rule) - 1\n",
    "    \n",
    "    # Define end as original end of list\n",
    "    \n",
    "    end = len(original_sample_space) - 1\n",
    "    \n",
    "    # Define new Sample Space\n",
    "    \n",
    "    new_sample_space = original_sample_space[start:end]\n",
    "    \n",
    "    # Return new Sample Space\n",
    "    \n",
    "    return new_sample_space\n",
    "    "
   ]
  },
  {
   "cell_type": "code",
   "execution_count": 12,
   "metadata": {},
   "outputs": [
    {
     "data": {
      "text/plain": [
       "[<p class=\"ruleb-e\">Section 1.1.<b> </b>Organization and Application</p>,\n",
       " <p class=\"ruleb-e\">1.1.1.<b> </b>Organization of this Code</p>,\n",
       " <p class=\"section-e\"><b>1.1.1.1. Scope of Division A</b></p>,\n",
       " <p class=\"subsection-e\"><b>  (1) </b>Division A contains compliance and application provisions and the <i>objectives </i>and <i>functional statements</i>\n",
       " of this Code.</p>,\n",
       " <p class=\"section-e\"><b>1.1.1.2. Scope of Division B</b></p>]"
      ]
     },
     "execution_count": 12,
     "metadata": {},
     "output_type": "execute_result"
    }
   ],
   "source": [
    "# Step 10 : Create Sample Space\n",
    "\n",
    "sample_space = defineSampleSpace(soup, rules[1])\n",
    "\n",
    "# Example of first 5 items in Sample Space\n",
    "\n",
    "sample_space[0:5]"
   ]
  },
  {
   "cell_type": "code",
   "execution_count": 22,
   "metadata": {},
   "outputs": [],
   "source": [
    "def formatText(text): \n",
    "    \n",
    "        text = str(text)\n",
    "    \n",
    "        cleaned = re.sub(r\"<b>|</b>\", \"\", text)\n",
    "              \n",
    "        start = cleaned.index(\">\") + 1\n",
    "        cleaned = cleaned[start:]\n",
    "        \n",
    "        end = cleaned.index(\"<\")\n",
    "        cleaned = cleaned[:end]\n",
    "        \n",
    "        \n",
    "        return cleaned"
   ]
  },
  {
   "cell_type": "code",
   "execution_count": 26,
   "metadata": {},
   "outputs": [],
   "source": [
    "def retrieveIndicies(sub_set, sample_space):\n",
    "    indicies = []\n",
    "    \n",
    "    for item in sub_set:\n",
    "        \n",
    "        index = sample_space.index(item)\n",
    "        text = formatText(item)\n",
    "        indicies.append({\"item\": text, \"index\": index})\n",
    "        \n",
    "        \n",
    "    return indicies"
   ]
  },
  {
   "cell_type": "code",
   "execution_count": 27,
   "metadata": {},
   "outputs": [],
   "source": [
    "rules_indicies = retrieveIndicies(rules, sample_space)"
   ]
  },
  {
   "cell_type": "code",
   "execution_count": 43,
   "metadata": {},
   "outputs": [
    {
     "data": {
      "text/plain": [
       "{'item': '1.1.1. Organization of this Code', 'index': 1}"
      ]
     },
     "execution_count": 43,
     "metadata": {},
     "output_type": "execute_result"
    }
   ],
   "source": [
    "rules_indicies[1]"
   ]
  },
  {
   "cell_type": "code",
   "execution_count": 47,
   "metadata": {},
   "outputs": [],
   "source": [
    "def partitionSampleSpaceByIndicies(indicies, sample_space):\n",
    "    \n",
    "    partitionIndicies = []\n",
    "    \n",
    "    for item in indicies: \n",
    "        \n",
    "        if indicies.index(item) == len(indicies) - 1:\n",
    "            break\n",
    "            \n",
    "        else:\n",
    "            \n",
    "            # NOTE : OFF BY 1 ERROR ?\n",
    "            \n",
    "            start = item[\"index\"]\n",
    "\n",
    "            next_item = indicies[indicies.index(item) + 1]\n",
    "\n",
    "            end = next_item[\"index\"]\n",
    "\n",
    "            partitionIndicies.append({\"item\": item[\"item\"], \"starting_index\" : start, \"ending_index\": end})\n",
    "\n",
    "        \n",
    "    return partitionIndicies"
   ]
  },
  {
   "cell_type": "code",
   "execution_count": 48,
   "metadata": {},
   "outputs": [],
   "source": [
    "rules_partition = partitionSampleSpaceByIndicies(rules_indicies, sample_space)"
   ]
  },
  {
   "cell_type": "code",
   "execution_count": 49,
   "metadata": {},
   "outputs": [
    {
     "data": {
      "text/plain": [
       "{'item': '1.1.1. Organization of this Code',\n",
       " 'starting_index': 1,\n",
       " 'ending_index': 10}"
      ]
     },
     "execution_count": 49,
     "metadata": {},
     "output_type": "execute_result"
    }
   ],
   "source": [
    "rules_partition[1]"
   ]
  }
 ],
 "metadata": {
  "kernelspec": {
   "display_name": "Python 3",
   "language": "python",
   "name": "python3"
  },
  "language_info": {
   "codemirror_mode": {
    "name": "ipython",
    "version": 3
   },
   "file_extension": ".py",
   "mimetype": "text/x-python",
   "name": "python",
   "nbconvert_exporter": "python",
   "pygments_lexer": "ipython3",
   "version": "3.7.6"
  }
 },
 "nbformat": 4,
 "nbformat_minor": 4
}
